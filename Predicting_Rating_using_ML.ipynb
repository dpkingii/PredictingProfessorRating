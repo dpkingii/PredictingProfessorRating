{
  "nbformat": 4,
  "nbformat_minor": 0,
  "metadata": {
    "colab": {
      "provenance": []
    },
    "kernelspec": {
      "name": "python3",
      "display_name": "Python 3"
    },
    "language_info": {
      "name": "python"
    }
  },
  "cells": [
    {
      "cell_type": "markdown",
      "source": [
        "Imports"
      ],
      "metadata": {
        "id": "7ItRB9MnNqxA"
      }
    },
    {
      "cell_type": "code",
      "source": [
        "import requests\n",
        "import json\n",
        "import time\n",
        "import random\n",
        "import csv\n",
        "import pandas as pd\n",
        "import matplotlib.pyplot as plt\n",
        "from sklearn.model_selection import train_test_split\n",
        "from sklearn.model_selection import cross_val_score\n",
        "from sklearn.linear_model import LinearRegression\n",
        "from sklearn.ensemble import RandomForestRegressor\n",
        "from sklearn.neighbors import KNeighborsRegressor\n",
        "from sklearn.svm import SVR\n",
        "\n",
        "import numpy as np\n",
        "\n",
        "!pip install vaderSentiment"
      ],
      "metadata": {
        "colab": {
          "base_uri": "https://localhost:8080/"
        },
        "id": "ZdLKxNLP3qAL",
        "outputId": "e77f3cb9-c48a-437f-fe44-bf89dfa1cf86"
      },
      "execution_count": null,
      "outputs": [
        {
          "output_type": "stream",
          "name": "stdout",
          "text": [
            "Requirement already satisfied: vaderSentiment in /usr/local/lib/python3.11/dist-packages (3.3.2)\n",
            "Requirement already satisfied: requests in /usr/local/lib/python3.11/dist-packages (from vaderSentiment) (2.32.3)\n",
            "Requirement already satisfied: charset-normalizer<4,>=2 in /usr/local/lib/python3.11/dist-packages (from requests->vaderSentiment) (3.4.1)\n",
            "Requirement already satisfied: idna<4,>=2.5 in /usr/local/lib/python3.11/dist-packages (from requests->vaderSentiment) (3.10)\n",
            "Requirement already satisfied: urllib3<3,>=1.21.1 in /usr/local/lib/python3.11/dist-packages (from requests->vaderSentiment) (2.3.0)\n",
            "Requirement already satisfied: certifi>=2017.4.17 in /usr/local/lib/python3.11/dist-packages (from requests->vaderSentiment) (2025.1.31)\n"
          ]
        }
      ]
    },
    {
      "cell_type": "markdown",
      "source": [
        "API calls for professor info + reviews"
      ],
      "metadata": {
        "id": "xiAWB__W8TsO"
      }
    },
    {
      "cell_type": "code",
      "execution_count": null,
      "metadata": {
        "id": "cM9cpTWozy2v"
      },
      "outputs": [],
      "source": [
        "profs = {}\n",
        "offset = 0\n",
        "batch_size = 100\n",
        "\n",
        "while True:\n",
        "    response = requests.get(\n",
        "        f\"https://planetterp.com/api/v1/professors?reviews=true&type=professor&limit={batch_size}&offset={offset}\"\n",
        "    )\n",
        "    profs_data = response.json()\n",
        "\n",
        "\n",
        "    if not profs_data:\n",
        "        break\n",
        "\n",
        "    for prof_data in profs_data:\n",
        "        if prof_data[\"average_rating\"] == None:\n",
        "            continue\n",
        "\n",
        "        name = prof_data[\"name\"]\n",
        "        to_add = {\n",
        "            \"slug\": prof_data[\"slug\"],\n",
        "            \"type\": prof_data[\"type\"],\n",
        "            \"courses\": prof_data[\"courses\"],\n",
        "            'average_rating': prof_data[\"average_rating\"],\n",
        "            \"reviews\": prof_data[\"reviews\"]\n",
        "        }\n",
        "        profs[name] = to_add\n",
        "\n",
        "    offset += batch_size\n",
        "\n",
        "# Save the full file after scraping\n",
        "with open(\"professors.json\", \"w\", encoding=\"utf-8\") as f:\n",
        "    json.dump(profs, f, indent=2)"
      ]
    },
    {
      "cell_type": "markdown",
      "source": [
        "API calls for grades - calculate average GPA for each professor base on past grades"
      ],
      "metadata": {
        "id": "5N_fuborMvVW"
      }
    },
    {
      "cell_type": "code",
      "source": [
        "def calculate_average_gpa(grade_data):\n",
        "    gpa_values = {\n",
        "        'A+': 4.0, 'A': 4.0, 'A-': 3.7,\n",
        "        'B+': 3.3, 'B': 3.0, 'B-': 2.7,\n",
        "        'C+': 2.3, 'C': 2.0, 'C-': 1.7,\n",
        "        'D+': 1.3, 'D': 1.0, 'D-': 0.7,\n",
        "        'F': 0.0\n",
        "    }\n",
        "\n",
        "    total_points = 0.0\n",
        "    total_students = 0\n",
        "\n",
        "    for section in grade_data:\n",
        "        for grade, value in gpa_values.items():\n",
        "            count = section.get(grade, 0)\n",
        "            total_points += count * value\n",
        "            total_students += count\n",
        "\n",
        "    if total_students == 0:\n",
        "        return None  # Avoid division by zero\n",
        "\n",
        "    average_gpa = total_points / total_students\n",
        "    return round(average_gpa, 3)\n",
        "\n",
        "with open('professors.json', 'r') as f:\n",
        "    professor_data = json.load(f)\n",
        "\n",
        "results = []\n",
        "\n",
        "for name in professor_data.keys():\n",
        "    try:\n",
        "        url = f\"https://planetterp.com/api/v1/grades?professor={name}\"\n",
        "        response = requests.get(url)\n",
        "        response.raise_for_status()\n",
        "        grades_data = response.json()\n",
        "\n",
        "        avg_gpa = calculate_average_gpa(grades_data)\n",
        "        results.append({\n",
        "            \"name\": name,\n",
        "            \"average_gpa\": avg_gpa\n",
        "        })\n",
        "\n",
        "\n",
        "    except Exception as e:\n",
        "        print(f\"Failed for {name}: {e}\")\n",
        "        results.append({\n",
        "            \"name\": name,\n",
        "            \"average_gpa\": None\n",
        "        })\n",
        "\n",
        "print(f\"Number of average gpa calculated: {len(results)}\")\n",
        "\n",
        "\n",
        "# Save results\n",
        "with open('professors_with_avg_gpa.json', 'w') as f:\n",
        "    json.dump(results, f, indent=2)"
      ],
      "metadata": {
        "colab": {
          "base_uri": "https://localhost:8080/"
        },
        "id": "p353BipE_Vqy",
        "outputId": "dc6f5129-46ca-41ed-c465-ca0349e4b48a"
      },
      "execution_count": null,
      "outputs": [
        {
          "output_type": "stream",
          "name": "stdout",
          "text": [
            "Number of average gpa calculated: 4211\n"
          ]
        }
      ]
    },
    {
      "cell_type": "markdown",
      "source": [
        "Compute Average GPA and Expected GPA"
      ],
      "metadata": {
        "id": "G50CsTAYxltD"
      }
    },
    {
      "cell_type": "code",
      "source": [
        "gpa_values = {\n",
        "    'A+': 4.0, 'A': 4.0, 'A-': 3.7,\n",
        "    'B+': 3.3, 'B': 3.0, 'B-': 2.7,\n",
        "    'C+': 2.3, 'C': 2.0, 'C-': 1.7,\n",
        "    'D+': 1.3, 'D': 1.0, 'D-': 0.7,\n",
        "    'F': 0.0\n",
        "}\n",
        "\n",
        "# Compute average expected GPA from reviews\n",
        "def calculate_average_expected_gpa(reviews):\n",
        "    total = 0.0\n",
        "    count = 0\n",
        "    for review in reviews:\n",
        "        expected = review.get(\"expected_grade\", \"\")\n",
        "        if expected in gpa_values:\n",
        "            total += gpa_values[expected]\n",
        "            count += 1\n",
        "    if count == 0:\n",
        "        return None\n",
        "    return round(total / count, 3)\n",
        "\n",
        "# Load professor data\n",
        "with open('professors.json', 'r') as f:\n",
        "    professors = json.load(f)\n",
        "\n",
        "# Load precomputed average GPA data\n",
        "with open('professors_with_avg_gpa.json', 'r') as f:\n",
        "    avg_gpa_data = json.load(f)\n",
        "\n",
        "# Convert list to dictionary for quick lookup\n",
        "avg_gpa_lookup = {prof[\"name\"]: prof[\"average_gpa\"] for prof in avg_gpa_data}\n",
        "\n",
        "results = []\n",
        "\n",
        "# Merge data\n",
        "for name, data in professors.items():\n",
        "    avg_gpa = avg_gpa_lookup.get(name)  # Look up from precomputed file\n",
        "    reviews = data.get(\"reviews\", [])\n",
        "    avg_expected = calculate_average_expected_gpa(reviews)\n",
        "\n",
        "    results.append({\n",
        "        \"name\": name,\n",
        "        \"average_gpa\": avg_gpa,\n",
        "        \"average_expected_gpa\": avg_expected\n",
        "    })\n",
        "\n",
        "# Save result\n",
        "with open('professor_gpa_features.json', 'w') as f:\n",
        "    json.dump(results, f, indent=2)"
      ],
      "metadata": {
        "id": "IJpxdawz4On0"
      },
      "execution_count": null,
      "outputs": []
    },
    {
      "cell_type": "markdown",
      "source": [
        "Generate Sentiment Analysis from reviews"
      ],
      "metadata": {
        "id": "yodQ7vL98f9x"
      }
    },
    {
      "cell_type": "code",
      "source": [
        "from vaderSentiment.vaderSentiment import SentimentIntensityAnalyzer\n",
        "\n",
        "with open(\"professors.json\", \"r\", encoding=\"utf-8\") as f:\n",
        "  professors = json.load(f)\n",
        "\n",
        "analyzer = SentimentIntensityAnalyzer()\n",
        "\n",
        "sentiment_scores = {}\n",
        "\n",
        "for name, data in professors.items():\n",
        "    reviews = data[\"reviews\"]\n",
        "    total_score = 0\n",
        "    count = 0\n",
        "\n",
        "    for review in reviews:\n",
        "        text = review[\"review\"]\n",
        "        sentiment = analyzer.polarity_scores(text)\n",
        "        total_score += sentiment[\"compound\"]\n",
        "        count += 1\n",
        "\n",
        "    if count > 0:\n",
        "        avg_score = total_score / count\n",
        "        sentiment_scores[name] = avg_score\n",
        "\n",
        "with open(\"professor_sentiment.json\", \"w\", encoding=\"utf-8\") as f:\n",
        "    json.dump(sentiment_scores, f, indent=2)"
      ],
      "metadata": {
        "id": "sPjn3VGW5kSx"
      },
      "execution_count": null,
      "outputs": []
    },
    {
      "cell_type": "markdown",
      "source": [
        "API call for average rating of each professor - use to train model"
      ],
      "metadata": {
        "id": "4CIfahST0kPT"
      }
    },
    {
      "cell_type": "code",
      "source": [
        "profs = {}\n",
        "offset = 0\n",
        "batch_size = 100\n",
        "\n",
        "while True:\n",
        "    response = requests.get(\n",
        "        f\"https://planetterp.com/api/v1/professors?rtype=professor&limit={batch_size}&offset={offset}\"\n",
        "    )\n",
        "    profs_data = response.json()\n",
        "\n",
        "\n",
        "    if not profs_data:\n",
        "        break\n",
        "\n",
        "    for prof_data in profs_data:\n",
        "        if prof_data[\"average_rating\"] == None:\n",
        "            continue\n",
        "\n",
        "        name = prof_data[\"name\"]\n",
        "        to_add = {\n",
        "            'average_rating': prof_data[\"average_rating\"],\n",
        "        }\n",
        "        profs[name] = to_add\n",
        "\n",
        "    offset += batch_size\n",
        "\n",
        "# Save the full file after scraping\n",
        "with open(\"professors_average_rating.json\", \"w\", encoding=\"utf-8\") as f:\n",
        "    json.dump(profs, f, indent=2)"
      ],
      "metadata": {
        "id": "te2Wm4Wg0t8b"
      },
      "execution_count": null,
      "outputs": []
    },
    {
      "cell_type": "markdown",
      "source": [
        "Combine files into one csv for training"
      ],
      "metadata": {
        "id": "TAVwE5I7dUwa"
      }
    },
    {
      "cell_type": "code",
      "source": [
        "# Load list of professors with average GPA and expected GPA\n",
        "with open('professor_gpa_features.json', 'r') as f:\n",
        "    gpa_data = json.load(f)\n",
        "\n",
        "# Load sentiment dictionary (name -> sentiment score)\n",
        "with open('professor_sentiment.json', 'r') as f:\n",
        "    sentiment_data = json.load(f)\n",
        "\n",
        "# Load professor average ratings (name -> average_rating)\n",
        "with open('professors_average_rating.json', 'r') as f:\n",
        "    rating_data = json.load(f)\n",
        "\n",
        "combined = []\n",
        "\n",
        "# Go through each professor in GPA list\n",
        "for prof in gpa_data:\n",
        "    name = prof[\"name\"]\n",
        "    avg_gpa = prof.get(\"average_gpa\")\n",
        "    avg_expected = prof.get(\"average_expected_gpa\")\n",
        "    sentiment = sentiment_data.get(name)\n",
        "    star_rating = rating_data.get(name, {}).get(\"average_rating\")  # Get star_rating, if available\n",
        "\n",
        "    # Only include if sentiment exists and star_rating is available\n",
        "    if sentiment is not None and star_rating is not None:\n",
        "        combined.append({\n",
        "            \"name\": name,\n",
        "            \"average_gpa\": avg_gpa,\n",
        "            \"average_expected_gpa\": avg_expected,\n",
        "            \"sentiment\": sentiment,\n",
        "            \"star_rating\": star_rating\n",
        "        })\n",
        "\n",
        "\n",
        "# Write to CSV\n",
        "with open('professor_features.csv', 'w', newline='') as f:\n",
        "    fieldnames = [\"name\", \"average_gpa\", \"average_expected_gpa\", \"sentiment\", \"star_rating\"]\n",
        "    writer = csv.DictWriter(f, fieldnames=fieldnames)\n",
        "    writer.writeheader()\n",
        "    writer.writerows(combined)"
      ],
      "metadata": {
        "id": "VJIQQRSEdTzO"
      },
      "execution_count": null,
      "outputs": []
    },
    {
      "cell_type": "markdown",
      "source": [
        "Split data into training set and testing set"
      ],
      "metadata": {
        "id": "jwFh0GAc8pVt"
      }
    },
    {
      "cell_type": "code",
      "source": [
        "# Load the CSV file into a pandas DataFrame\n",
        "df = pd.read_csv('professor_features.csv')\n",
        "\n",
        "# drop missing values\n",
        "df = df.dropna()\n",
        "\n",
        "# Features (X) and Target (y)\n",
        "X = df[[\"average_gpa\", \"average_expected_gpa\", \"sentiment\"]]  # Features\n",
        "y = df[\"star_rating\"]  # Target (Star rating)\n",
        "\n",
        "# Split data into training and testing sets (80% training, 20% testing)\n",
        "X_train, X_test, y_train, y_test = train_test_split(X, y, test_size=0.2, random_state=42)\n",
        "\n",
        "# Check the size of the split\n",
        "print(\"Training data size:\", len(X_train))\n",
        "print(\"Testing data size:\", len(X_test))"
      ],
      "metadata": {
        "colab": {
          "base_uri": "https://localhost:8080/"
        },
        "id": "voMHM9lw4doH",
        "outputId": "94f870ca-0daf-4c01-e51e-9b233f7c0b6b"
      },
      "execution_count": null,
      "outputs": [
        {
          "output_type": "stream",
          "name": "stdout",
          "text": [
            "Training data size: 2926\n",
            "Testing data size: 732\n"
          ]
        }
      ]
    },
    {
      "cell_type": "markdown",
      "source": [
        "Model Training"
      ],
      "metadata": {
        "id": "hVtmiMiF5oJx"
      }
    },
    {
      "cell_type": "code",
      "source": [
        "# Train Linear Regression Model\n",
        "lr_model = LinearRegression()\n",
        "lr_model.fit(X_train, y_train)\n",
        "\n",
        "# Train the Random Forest Regression model\n",
        "rf_model = RandomForestRegressor(n_estimators=100, random_state=42)\n",
        "rf_model.fit(X_train, y_train)\n",
        "\n",
        "# Create the KNN regressor model\n",
        "knn_model = KNeighborsRegressor(n_neighbors=23)\n",
        "\n",
        "# Train the Support Vector Machine model\n",
        "svm_model = SVR(kernel='rbf')\n",
        "svm_model.fit(X_train, y_train)\n",
        "\n",
        "print(\"Training Complete!\")"
      ],
      "metadata": {
        "colab": {
          "base_uri": "https://localhost:8080/"
        },
        "id": "Wsv_2_k85ssf",
        "outputId": "fc0c84dc-def4-4b50-d619-d91f9462dd42"
      },
      "execution_count": null,
      "outputs": [
        {
          "output_type": "stream",
          "name": "stdout",
          "text": [
            "Training Complete!\n"
          ]
        }
      ]
    },
    {
      "cell_type": "markdown",
      "source": [
        "Linear Regression Model Evaulation"
      ],
      "metadata": {
        "id": "JLuVnh7N7H8e"
      }
    },
    {
      "cell_type": "code",
      "source": [
        "# Function to perform 10-fold cross-validation for Linear Regression\n",
        "def evaluate_lr_model(X, y):\n",
        "    scores = cross_val_score(lr_model, X, y, cv=10, scoring='neg_mean_squared_error')\n",
        "    mse_scores = -scores  # Convert from negative MSE to positive MSE\n",
        "    r2_scores = cross_val_score(lr_model, X, y, cv=10, scoring='r2')\n",
        "\n",
        "    print(f\"\\nEvaluating Linear Regression with 10-fold Cross-validation:\")\n",
        "    print(f\"Mean Squared Error (MSE) (10-fold CV): {np.mean(mse_scores):.4f}\")\n",
        "    print(f\"R2 Score (10-fold CV): {np.mean(r2_scores):.4f}\")\n",
        "\n",
        "# Evaluate Linear Regression model using 10-fold cross-validation\n",
        "evaluate_lr_model(X_test, y_test)"
      ],
      "metadata": {
        "colab": {
          "base_uri": "https://localhost:8080/"
        },
        "id": "9jgyS97s7OLw",
        "outputId": "7cdb9e1a-3a58-4841-9372-9c4d000ab59c"
      },
      "execution_count": null,
      "outputs": [
        {
          "output_type": "stream",
          "name": "stdout",
          "text": [
            "\n",
            "Evaluating Linear Regression with 10-fold Cross-validation:\n",
            "Mean Squared Error (MSE) (10-fold CV): 0.5104\n",
            "R2 Score (10-fold CV): 0.6100\n"
          ]
        }
      ]
    },
    {
      "cell_type": "markdown",
      "source": [
        "Random Forest Model Evaulation with"
      ],
      "metadata": {
        "id": "5ZbtE7xw7lj0"
      }
    },
    {
      "cell_type": "code",
      "source": [
        "# Function to perform 10-fold cross-validation for Random Forest\n",
        "def evaluate_rf_model(X, y):\n",
        "    scores = cross_val_score(rf_model, X, y, cv=10, scoring='neg_mean_squared_error')\n",
        "    mse_scores = -scores  # Convert from negative MSE to positive MSE\n",
        "    r2_scores = cross_val_score(rf_model, X, y, cv=10, scoring='r2')\n",
        "\n",
        "    print(f\"\\nEvaluating Random Forest with 10-fold Cross-validation:\")\n",
        "    print(f\"Mean Squared Error (MSE) (10-fold CV): {np.mean(mse_scores):.4f}\")\n",
        "    print(f\"R2 Score (10-fold CV): {np.mean(r2_scores):.4f}\")\n",
        "\n",
        "# Evaluate Random Forest model using 10-fold cross-validation\n",
        "evaluate_rf_model(X_test, y_test)"
      ],
      "metadata": {
        "colab": {
          "base_uri": "https://localhost:8080/"
        },
        "id": "UvalxDuO7imX",
        "outputId": "f9f48f24-d72d-4f89-ef2d-3b8d70adcded"
      },
      "execution_count": null,
      "outputs": [
        {
          "output_type": "stream",
          "name": "stdout",
          "text": [
            "\n",
            "Evaluating Random Forest with 10-fold Cross-validation:\n",
            "Mean Squared Error (MSE) (10-fold CV): 0.5397\n",
            "R2 Score (10-fold CV): 0.5868\n"
          ]
        }
      ]
    },
    {
      "cell_type": "markdown",
      "source": [
        "KNN Model Evaulation"
      ],
      "metadata": {
        "id": "Sa1Qd1cN8pex"
      }
    },
    {
      "cell_type": "code",
      "source": [
        "knn_cv_scores = cross_val_score(knn_model, X, y, cv=10, scoring='neg_mean_squared_error')\n",
        "knn_mean_mse = -knn_cv_scores.mean()  # Convert back from negative MSE\n",
        "knn_std_mse = knn_cv_scores.std()\n",
        "\n",
        "print(f\"KNN Mean MSE: {knn_mean_mse}\")\n",
        "print(f\"KNN MSE Standard Deviation: {knn_std_mse}\")"
      ],
      "metadata": {
        "colab": {
          "base_uri": "https://localhost:8080/"
        },
        "id": "exrRNV388vfP",
        "outputId": "57fb02e2-5a54-45d9-fde9-58fd98104b1b"
      },
      "execution_count": null,
      "outputs": [
        {
          "output_type": "stream",
          "name": "stdout",
          "text": [
            "KNN Mean MSE: 0.44458481401786826\n",
            "KNN MSE Standard Deviation: 0.07019833510240824\n"
          ]
        }
      ]
    },
    {
      "cell_type": "markdown",
      "source": [
        "Support Vector Machines Model Evaulation"
      ],
      "metadata": {
        "id": "NTmVnJb77sHA"
      }
    },
    {
      "cell_type": "code",
      "source": [
        "# Function to perform 10-fold cross-validation for SVM\n",
        "def evaluate_svm_model(X, y):\n",
        "    scores = cross_val_score(svm_model, X, y, cv=10, scoring='neg_mean_squared_error')\n",
        "    mse_scores = -scores  # Convert from negative MSE to positive MSE\n",
        "    r2_scores = cross_val_score(svm_model, X, y, cv=10, scoring='r2')\n",
        "\n",
        "    print(f\"\\nEvaluating SVM with 10-fold Cross-validation:\")\n",
        "    print(f\"Mean Squared Error (MSE) (10-fold CV): {np.mean(mse_scores):.4f}\")\n",
        "    print(f\"R2 Score (10-fold CV): {np.mean(r2_scores):.4f}\")\n",
        "\n",
        "# Evaluate SVM model using 10-fold cross-validation\n",
        "evaluate_svm_model(X_test, y_test)"
      ],
      "metadata": {
        "colab": {
          "base_uri": "https://localhost:8080/"
        },
        "id": "8Q0aCrub7wTy",
        "outputId": "d54f834b-d61c-400a-e765-e495e7402a91"
      },
      "execution_count": null,
      "outputs": [
        {
          "output_type": "stream",
          "name": "stdout",
          "text": [
            "\n",
            "Evaluating SVM with 10-fold Cross-validation:\n",
            "Mean Squared Error (MSE) (10-fold CV): 0.5008\n",
            "R2 Score (10-fold CV): 0.6177\n"
          ]
        }
      ]
    },
    {
      "cell_type": "markdown",
      "source": [
        "Important feature"
      ],
      "metadata": {
        "id": "CVloNsNj9Efc"
      }
    },
    {
      "cell_type": "code",
      "source": [
        "# Get feature importances from the Random Forest model\n",
        "importances = rf_model.feature_importances_\n",
        "\n",
        "# Match importances to feature names\n",
        "feature_names = X.columns\n",
        "feature_importances = dict(zip(feature_names, importances))\n",
        "\n",
        "# Print feature importances nicely\n",
        "print(\"Feature Importance from Random Forest Regression Model\")\n",
        "for feature, importance in feature_importances.items():\n",
        "    print(f\"{feature}: {importance:.4f}\")"
      ],
      "metadata": {
        "colab": {
          "base_uri": "https://localhost:8080/"
        },
        "id": "xh8BI4dQ9G99",
        "outputId": "2419ac4b-0931-461d-e7ab-85931af4b1a3"
      },
      "execution_count": null,
      "outputs": [
        {
          "output_type": "stream",
          "name": "stdout",
          "text": [
            "Feature Importance from Random Forest Regression Model\n",
            "average_gpa: 0.1477\n",
            "average_expected_gpa: 0.1115\n",
            "sentiment: 0.7408\n"
          ]
        }
      ]
    },
    {
      "cell_type": "code",
      "source": [
        "sorted_features = sorted(feature_importances.items(), key=lambda x: x[1], reverse=True)\n",
        "names = [item[0] for item in sorted_features]\n",
        "values = [item[1] for item in sorted_features]\n",
        "\n",
        "# Plot\n",
        "plt.figure(figsize=(6, 3))\n",
        "bars = plt.barh(names, values, color='#4CAF50', edgecolor='black')\n",
        "\n",
        "# Add value labels inside the bars or slightly to the right\n",
        "for bar in bars:\n",
        "    plt.text(bar.get_width() + 0.02, bar.get_y() + bar.get_height()/2,\n",
        "             f'{bar.get_width():.3f}', va='center', fontsize=9)\n",
        "\n",
        "# Styling\n",
        "plt.xlabel('Feature Importance', fontsize=12)\n",
        "plt.title('Feature Importance from Random Forest', fontsize=14, fontweight='bold')\n",
        "plt.gca().invert_yaxis()  # Highest importance at the top\n",
        "plt.grid(axis='x', linestyle='--', alpha=0.7)\n",
        "\n",
        "# Extend x-axis limit slightly\n",
        "plt.xlim(0, max(values) + 0.1)\n",
        "\n",
        "plt.tight_layout()\n",
        "plt.show()"
      ],
      "metadata": {
        "colab": {
          "base_uri": "https://localhost:8080/",
          "height": 307
        },
        "id": "aKUl4pJl-XDX",
        "outputId": "9468ff47-696c-48db-e0df-17344e8f9cd7"
      },
      "execution_count": null,
      "outputs": [
        {
          "output_type": "display_data",
          "data": {
            "text/plain": [
              "<Figure size 600x300 with 1 Axes>"
            ],
            "image/png": "[encoded data removed]"
          },
          "metadata": {}
        }
      ]
    }
  ]
}